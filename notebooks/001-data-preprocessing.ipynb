{
 "cells": [
  {
   "cell_type": "markdown",
   "id": "90ae69a7",
   "metadata": {},
   "source": [
    "<img src=\"../logo/AppleCiDEr.png\" width=\"150\"/>\n",
    "\n",
    "\n",
    "<a id='index'></a>\n",
    "# 000 - data preprocessing\n",
    "\n",
    "\n",
    "1. [preprocessing a single object](#single)\n",
    "    - [plot light curve](#LC)\n",
    "    - [object images](#images)\n",
    "2. [preprocess dataset](#dataset)"
   ]
  },
  {
   "cell_type": "code",
   "execution_count": null,
   "id": "bf05849b-62b7-4f17-b285-d17dcc073015",
   "metadata": {
    "tags": []
   },
   "outputs": [],
   "source": [
    "import os\n",
    "import pandas as pd\n",
    "import sys ; sys.path.insert(0, '/projects/bcrv/abrown3')\n",
    "\n",
    "import AppleCider.preprocess.plot_data as plot_data\n",
    "\n",
    "from IPython.display import display\n",
    "\n",
    "from AppleCider.preprocess.data_preprocessor import (\n",
    "    AlertProcessor,\n",
    "    PhotometryProcessor,\n",
    "    DataPreprocessor,\n",
    "    SpectraProcessor\n",
    ")\n",
    "import AppleCider.preprocess.plot_data as plot_data\n",
    "\n",
    "import matplotlib.pyplot as plt\n",
    "import matplotlib.patches as patches\n",
    "from matplotlib.gridspec import GridSpec\n",
    "\n",
    "import pickle\n",
    "import plotly.graph_objects as go\n",
    "import plotly.subplots as sp\n",
    "import seaborn as sns\n",
    "\n",
    "import torch ;  torch.set_printoptions(precision=10)\n",
    "from tqdm.auto import tqdm\n",
    "from numpy import unravel_index\n",
    "import numpy as np\n",
    "from matplotlib.patches import Rectangle"
   ]
  },
  {
   "cell_type": "code",
   "execution_count": null,
   "id": "e48adb4b-bdc0-47f9-87c7-4ec1b4fc4934",
   "metadata": {
    "tags": []
   },
   "outputs": [],
   "source": [
    "data_dir = '/work/hdd/bcrv/ffontinelenunes/data/AppleCider/data_ztf/'\n",
    "\n",
    "cider_BTS = pd.read_csv('/projects/bcrv/abrown3/new-csv-pkl/cider_BTS.csv')\n",
    "cider_BTS['type'].value_counts()"
   ]
  },
  {
   "cell_type": "markdown",
   "id": "3bb3be5c-0fe1-439b-a487-cfbba3a6eaf4",
   "metadata": {},
   "source": [
    "<a id='single'></a>\n",
    "\n",
    "\n",
    "### preprocessing steps: single object"
   ]
  },
  {
   "cell_type": "markdown",
   "id": "84bbf525-e793-44bd-805c-359fc9b726d8",
   "metadata": {},
   "source": [
    "<i>a) alert processor, b) photometry processor</i>\n",
    "\n",
    "`PhotometryProcessor` deals with aux alerts (saved as `photometry.csv`) and `AlertProcessor` deals with alerts (`alerts.npy`). see `000-query-data.ipynb` for more information.\n",
    "\n",
    "<br>\n",
    "\n",
    "<small><i>back to [index](#index)</small></i>"
   ]
  },
  {
   "cell_type": "code",
   "execution_count": null,
   "id": "3506d2c3-3521-4e03-95dd-afde5a2c8af8",
   "metadata": {
    "tags": []
   },
   "outputs": [],
   "source": [
    "obj_id = 'ZTF24aaemydm'\n",
    "\n",
    "## loading data from folder\n",
    "## change column names, add object id, object type to make photo_df\n",
    "photo_df = PhotometryProcessor.process_csv(obj_id, cider_BTS, data_dir)\n",
    "alert_df, images = AlertProcessor.get_process_alerts(obj_id, data_dir)"
   ]
  },
  {
   "cell_type": "code",
   "execution_count": null,
   "id": "68309df2-147c-4fc8-a467-1b8c8a6bfe47",
   "metadata": {
    "tags": []
   },
   "outputs": [],
   "source": [
    "photo_df[:3]"
   ]
  },
  {
   "cell_type": "code",
   "execution_count": null,
   "id": "9811b0b2-a32c-469a-9120-fd09543d458a",
   "metadata": {
    "tags": []
   },
   "outputs": [],
   "source": [
    "alert_df[:3]"
   ]
  },
  {
   "cell_type": "code",
   "execution_count": null,
   "id": "5d48b2b3-4146-4ed5-b650-42b621c85049",
   "metadata": {
    "tags": []
   },
   "outputs": [],
   "source": [
    "## sort by JD\n",
    "## add metadata missing from photometry\n",
    "photo_df, alert_df = photo_df.sort_values(by='jd'), alert_df.sort_values(by='jd')\n",
    "## TODO: rename function\n",
    "photo_df = PhotometryProcessor.add_metadata_to_photometry(photo_df, alert_df)"
   ]
  },
  {
   "cell_type": "code",
   "execution_count": null,
   "id": "aaf0068b-e93b-4086-bb2b-d4fcd1306d4f",
   "metadata": {
    "tags": []
   },
   "outputs": [],
   "source": [
    "photo_df[:3]"
   ]
  },
  {
   "cell_type": "markdown",
   "id": "48f70a7c-56f7-45ee-94d8-69ce06aa6c00",
   "metadata": {},
   "source": [
    "<a id='LC'></a>"
   ]
  },
  {
   "cell_type": "code",
   "execution_count": null,
   "id": "985477fd-c532-4808-9fed-0733d61bb0fe",
   "metadata": {
    "tags": []
   },
   "outputs": [],
   "source": [
    "plot_data.plot_photometry_magnitude(photo_df)"
   ]
  },
  {
   "cell_type": "code",
   "execution_count": null,
   "id": "1dda5851-f02f-470d-b716-4daf18783cff",
   "metadata": {
    "tags": []
   },
   "outputs": [],
   "source": [
    "def plot_image_pres(image):\n",
    "    \"\"\" use to graph images of objects after basic preprocessing\"\"\"\n",
    "    fig, axes = plt.subplots(1, 3, figsize=(15, 5))\n",
    "    fig.subplots_adjust(wspace=0.01, hspace=0.1)\n",
    "    titles = ['Science Image', 'Reference Image', 'Difference']\n",
    "    \n",
    "    for i, ax in enumerate(axes):\n",
    "        ax.imshow(image[:, :, i], cmap='magma' )\n",
    "        ax.set_title(titles[i], fontsize=14)\n",
    "        ax.axis('off')\n",
    "    plt.show() "
   ]
  },
  {
   "cell_type": "markdown",
   "id": "207a62cf-88b0-4ac8-8801-d90d0b936cc8",
   "metadata": {},
   "source": [
    "<a id='images'></a>"
   ]
  },
  {
   "cell_type": "code",
   "execution_count": null,
   "id": "d39d9672-4590-433e-bc34-ed9d37d21929",
   "metadata": {
    "tags": []
   },
   "outputs": [],
   "source": [
    "print(len(images))\n",
    "\n",
    "n = 1\n",
    "selected_index = np.round(np.linspace(3, len(images) - 1, n)).astype(int)\n",
    "print('Selected index:', selected_index)\n",
    "for i in selected_index:\n",
    "    print('Image number:', i)\n",
    "    plot_image_pres(images[i])"
   ]
  },
  {
   "cell_type": "code",
   "execution_count": null,
   "id": "d0ed22b1-8e20-4f75-95a8-27bfbf338110",
   "metadata": {
    "tags": []
   },
   "outputs": [],
   "source": [
    "## convert magnitude to flux\n",
    "photo_df = DataPreprocessor.convert_photometry(photo_df)\n",
    "plot_data.plot_photometry_magnitude(photo_df)"
   ]
  },
  {
   "cell_type": "code",
   "execution_count": null,
   "id": "cf371b14-702a-47d2-a469-40fffafcddc0",
   "metadata": {
    "scrolled": true,
    "tags": []
   },
   "outputs": [],
   "source": [
    "## cut down to only early-ish photometry\n",
    "max_ = min(photo_df['mjd'].max(), 10)\n",
    "photo_df = photo_df[photo_df['mjd'] <= max_]\n",
    "photo_df"
   ]
  },
  {
   "cell_type": "code",
   "execution_count": null,
   "id": "26ebbc4b-ca68-484f-9b6c-ce5866555f82",
   "metadata": {
    "tags": []
   },
   "outputs": [],
   "source": [
    "alert_df = alert_df[alert_df['jd'] <= photo_df['jd'].max()]\n",
    "metadata_df = DataPreprocessor.preprocess_metadata(alert_df)\n",
    "metadata_df_norm = metadata_df.drop(columns=['jd'])\n",
    "\n",
    "start_index = PhotometryProcessor.get_first_valid_index(photo_df)\n",
    "\n",
    "alert_indices = list(range(start_index, len(metadata_df))) \n",
    "print(\"valid alert indices: \", alert_indices, '\\n')"
   ]
  },
  {
   "cell_type": "markdown",
   "id": "6325cbe5-cce7-4115-996a-d4f533c0f17a",
   "metadata": {},
   "source": [
    "<i>f) spectra</i>\n",
    "\n",
    "spectra preprocessing depends on the spectra model being used. "
   ]
  },
  {
   "cell_type": "code",
   "execution_count": null,
   "id": "3a511afc-9e07-4b51-8525-e1f9057dd6a6",
   "metadata": {},
   "outputs": [],
   "source": []
  },
  {
   "cell_type": "markdown",
   "id": "bf777fbd-77d1-4da8-966e-0a79b7479837",
   "metadata": {},
   "source": [
    "***\n",
    "<a id='dataset'></a>\n",
    "### 2. preprocessing dataset\n",
    "\n",
    "<small><i>back to [index](#index)</small></i>"
   ]
  },
  {
   "cell_type": "code",
   "execution_count": null,
   "id": "9b58764e-05ee-4384-890f-42ab2e2f6141",
   "metadata": {},
   "outputs": [],
   "source": [
    "# where we want to save the dataset\n",
    "DATA_PATH = '/projects/bcrv/abrown3/cider_BTS'"
   ]
  },
  {
   "cell_type": "markdown",
   "id": "7aec2ee4-dbc0-4ea6-a18c-4939dd0445e0",
   "metadata": {},
   "source": [
    "`TransientDataset`"
   ]
  },
  {
   "cell_type": "code",
   "execution_count": null,
   "id": "c630c109-d4bd-4954-b840-26c15155bdd2",
   "metadata": {},
   "outputs": [],
   "source": [
    "dataset = TransientDataset(DATA_PATH, base_path=data_dir, max_mjd=10,\n",
    "                                 normalize_light_curve=False, include_spectra=False,\n",
    "                                 include_flux_err=True)"
   ]
  }
 ],
 "metadata": {
  "kernelspec": {
   "display_name": "envapple",
   "language": "python",
   "name": "envapple"
  },
  "language_info": {
   "codemirror_mode": {
    "name": "ipython",
    "version": 3
   },
   "file_extension": ".py",
   "mimetype": "text/x-python",
   "name": "python",
   "nbconvert_exporter": "python",
   "pygments_lexer": "ipython3",
   "version": "3.10.14"
  }
 },
 "nbformat": 4,
 "nbformat_minor": 5
}
